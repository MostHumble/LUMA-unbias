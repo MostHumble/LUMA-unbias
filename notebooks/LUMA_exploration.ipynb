{
  "nbformat": 4,
  "nbformat_minor": 0,
  "metadata": {
    "colab": {
      "provenance": []
    },
    "kernelspec": {
      "name": "python3",
      "display_name": "Python 3"
    },
    "language_info": {
      "name": "python"
    }
  },
  "cells": [
    {
      "cell_type": "markdown",
      "source": [
        "## Setups: Clone repo, install libs, get data and make it usable\n",
        "This may take some time..."
      ],
      "metadata": {
        "id": "y8BpX5O4MHKC"
      }
    },
    {
      "cell_type": "markdown",
      "source": [
        "### Clone the LUMA repo  "
      ],
      "metadata": {
        "id": "X4nvVnQTL_Tq"
      }
    },
    {
      "cell_type": "code",
      "source": [
        "!git clone https://github.com/bezirganyan/LUMA.git"
      ],
      "metadata": {
        "colab": {
          "base_uri": "https://localhost:8080/"
        },
        "id": "gktsgf2Sda6T",
        "outputId": "8c01c6bd-87db-4955-9bf8-7cee8c82b247"
      },
      "execution_count": 1,
      "outputs": [
        {
          "output_type": "stream",
          "name": "stdout",
          "text": [
            "Cloning into 'LUMA'...\n",
            "remote: Enumerating objects: 372, done.\u001b[K\n",
            "remote: Counting objects: 100% (126/126), done.\u001b[K\n",
            "remote: Compressing objects: 100% (104/104), done.\u001b[K\n",
            "remote: Total 372 (delta 68), reused 57 (delta 22), pack-reused 246 (from 1)\u001b[K\n",
            "Receiving objects: 100% (372/372), 299.62 KiB | 5.45 MiB/s, done.\n",
            "Resolving deltas: 100% (225/225), done.\n"
          ]
        }
      ]
    },
    {
      "cell_type": "markdown",
      "source": [
        "### Get the data"
      ],
      "metadata": {
        "id": "SdFBJtprL1Ch"
      }
    },
    {
      "cell_type": "code",
      "source": [
        "cd LUMA"
      ],
      "metadata": {
        "colab": {
          "base_uri": "https://localhost:8080/"
        },
        "id": "KnSChF4UL9PJ",
        "outputId": "9025bbb8-ac54-4f81-96d5-bbafa9c3b4f2"
      },
      "execution_count": 2,
      "outputs": [
        {
          "output_type": "stream",
          "name": "stdout",
          "text": [
            "/content/LUMA\n"
          ]
        }
      ]
    },
    {
      "cell_type": "code",
      "source": [
        "!git lfs install"
      ],
      "metadata": {
        "colab": {
          "base_uri": "https://localhost:8080/"
        },
        "id": "hZN_--0tuxec",
        "outputId": "b1a3e50c-d858-494f-bef2-339379dc5b1b"
      },
      "execution_count": 3,
      "outputs": [
        {
          "output_type": "stream",
          "name": "stdout",
          "text": [
            "Updated git hooks.\n",
            "Git LFS initialized.\n"
          ]
        }
      ]
    },
    {
      "cell_type": "code",
      "source": [
        "!git clone https://huggingface.co/datasets/bezirganyan/LUMA data"
      ],
      "metadata": {
        "colab": {
          "base_uri": "https://localhost:8080/"
        },
        "id": "jnRDzLYLL0oc",
        "outputId": "f978fcbd-2e81-4086-e2f9-82eebdefb09a"
      },
      "execution_count": 4,
      "outputs": [
        {
          "output_type": "stream",
          "name": "stdout",
          "text": [
            "Cloning into 'data'...\n",
            "remote: Enumerating objects: 136222, done.\u001b[K\n",
            "remote: Counting objects: 100% (27/27), done.\u001b[K\n",
            "remote: Compressing objects: 100% (26/26), done.\u001b[K\n",
            "remote: Total 136222 (delta 11), reused 0 (delta 0), pack-reused 136195 (from 1)\u001b[K\n",
            "Receiving objects: 100% (136222/136222), 20.37 MiB | 14.75 MiB/s, done.\n",
            "Resolving deltas: 100% (435/435), done.\n",
            "Updating files: 100% (135108/135108), done.\n",
            "Filtering content: 100% (135104/135104), 2.42 GiB | 1.83 MiB/s, done.\n"
          ]
        }
      ]
    },
    {
      "cell_type": "markdown",
      "source": [
        "### Install the libs"
      ],
      "metadata": {
        "id": "fDr13Zw9L2sE"
      }
    },
    {
      "cell_type": "code",
      "source": [
        "!pip install -q omegaconf audiomentations Wand nlpaug\n",
        "!sudo apt-get install libmagickwand-dev"
      ],
      "metadata": {
        "colab": {
          "base_uri": "https://localhost:8080/"
        },
        "id": "tuZ_R_jHLySj",
        "outputId": "83c71e77-1775-4ace-8da7-06fc2953f545"
      },
      "execution_count": 5,
      "outputs": [
        {
          "output_type": "stream",
          "name": "stdout",
          "text": [
            "\u001b[?25l     \u001b[90m━━━━━━━━━━━━━━━━━━━━━━━━━━━━━━━━━━━━━━━━\u001b[0m \u001b[32m0.0/117.0 kB\u001b[0m \u001b[31m?\u001b[0m eta \u001b[36m-:--:--\u001b[0m\r\u001b[2K     \u001b[91m━━━━━━━━━━━━━━━━━━━━━━━━━━━━━━━━━━━━━━\u001b[0m\u001b[90m╺\u001b[0m\u001b[90m━\u001b[0m \u001b[32m112.6/117.0 kB\u001b[0m \u001b[31m5.0 MB/s\u001b[0m eta \u001b[36m0:00:01\u001b[0m\r\u001b[2K     \u001b[90m━━━━━━━━━━━━━━━━━━━━━━━━━━━━━━━━━━━━━━━━\u001b[0m \u001b[32m117.0/117.0 kB\u001b[0m \u001b[31m2.7 MB/s\u001b[0m eta \u001b[36m0:00:00\u001b[0m\n",
            "\u001b[?25h  Preparing metadata (setup.py) ... \u001b[?25l\u001b[?25hdone\n",
            "\u001b[2K     \u001b[90m━━━━━━━━━━━━━━━━━━━━━━━━━━━━━━━━━━━━━━━━\u001b[0m \u001b[32m60.4/60.4 kB\u001b[0m \u001b[31m3.4 MB/s\u001b[0m eta \u001b[36m0:00:00\u001b[0m\n",
            "\u001b[2K   \u001b[90m━━━━━━━━━━━━━━━━━━━━━━━━━━━━━━━━━━━━━━━━\u001b[0m \u001b[32m79.5/79.5 kB\u001b[0m \u001b[31m4.9 MB/s\u001b[0m eta \u001b[36m0:00:00\u001b[0m\n",
            "\u001b[2K   \u001b[90m━━━━━━━━━━━━━━━━━━━━━━━━━━━━━━━━━━━━━━━━\u001b[0m \u001b[32m80.5/80.5 kB\u001b[0m \u001b[31m5.0 MB/s\u001b[0m eta \u001b[36m0:00:00\u001b[0m\n",
            "\u001b[2K   \u001b[90m━━━━━━━━━━━━━━━━━━━━━━━━━━━━━━━━━━━━━━━━\u001b[0m \u001b[32m143.8/143.8 kB\u001b[0m \u001b[31m8.0 MB/s\u001b[0m eta \u001b[36m0:00:00\u001b[0m\n",
            "\u001b[2K   \u001b[90m━━━━━━━━━━━━━━━━━━━━━━━━━━━━━━━━━━━━━━━━\u001b[0m \u001b[32m410.5/410.5 kB\u001b[0m \u001b[31m16.4 MB/s\u001b[0m eta \u001b[36m0:00:00\u001b[0m\n",
            "\u001b[2K   \u001b[90m━━━━━━━━━━━━━━━━━━━━━━━━━━━━━━━━━━━━━━━━\u001b[0m \u001b[32m38.4/38.4 MB\u001b[0m \u001b[31m16.7 MB/s\u001b[0m eta \u001b[36m0:00:00\u001b[0m\n",
            "\u001b[?25h  Building wheel for antlr4-python3-runtime (setup.py) ... \u001b[?25l\u001b[?25hdone\n",
            "Reading package lists... Done\n",
            "Building dependency tree... Done\n",
            "Reading state information... Done\n",
            "The following additional packages will be installed:\n",
            "  fonts-droid-fallback fonts-noto-mono fonts-urw-base35 ghostscript\n",
            "  gir1.2-freedesktop gir1.2-gdkpixbuf-2.0 gir1.2-rsvg-2.0 gsfonts\n",
            "  imagemagick-6-common libblkid-dev libblkid1 libcairo-script-interpreter2\n",
            "  libcairo2-dev libdjvulibre-dev libdjvulibre-text libdjvulibre21 libffi-dev\n",
            "  libfftw3-double3 libgdk-pixbuf-2.0-dev libgdk-pixbuf2.0-bin libglib2.0-dev\n",
            "  libglib2.0-dev-bin libgs9 libgs9-common libice-dev libidn12 libijs-0.35\n",
            "  libjbig2dec0 libjxr-tools libjxr0 liblcms2-dev liblqr-1-0 liblqr-1-0-dev\n",
            "  liblzo2-2 libmagickcore-6-arch-config libmagickcore-6-headers\n",
            "  libmagickcore-6.q16-6 libmagickcore-6.q16-6-extra libmagickcore-6.q16-dev\n",
            "  libmagickwand-6-headers libmagickwand-6.q16-6 libmagickwand-6.q16-dev\n",
            "  libmount-dev libmount1 libpixman-1-dev librsvg2-common librsvg2-dev\n",
            "  libselinux1-dev libsepol-dev libsm-dev libwmf-0.2-7 libwmf-dev\n",
            "  libwmflite-0.2-7 libxcb-render0-dev libxcb-shm0-dev libxt-dev poppler-data\n",
            "Suggested packages:\n",
            "  fonts-noto fonts-freefont-otf | fonts-freefont-ttf fonts-texgyre\n",
            "  ghostscript-x libcairo2-doc libfftw3-bin libfftw3-dev libgirepository1.0-dev\n",
            "  libglib2.0-doc libxml2-utils libice-doc inkscape cryptsetup-bin librsvg2-doc\n",
            "  libsm-doc libwmf-0.2-7-gtk libwmf-doc libxt-doc poppler-utils\n",
            "  fonts-japanese-mincho | fonts-ipafont-mincho fonts-japanese-gothic\n",
            "  | fonts-ipafont-gothic fonts-arphic-ukai fonts-arphic-uming fonts-nanum\n",
            "The following NEW packages will be installed:\n",
            "  fonts-droid-fallback fonts-noto-mono fonts-urw-base35 ghostscript\n",
            "  gir1.2-freedesktop gir1.2-gdkpixbuf-2.0 gir1.2-rsvg-2.0 gsfonts\n",
            "  imagemagick-6-common libblkid-dev libcairo-script-interpreter2 libcairo2-dev\n",
            "  libdjvulibre-dev libdjvulibre-text libdjvulibre21 libffi-dev\n",
            "  libfftw3-double3 libgdk-pixbuf-2.0-dev libgdk-pixbuf2.0-bin libglib2.0-dev\n",
            "  libglib2.0-dev-bin libgs9 libgs9-common libice-dev libidn12 libijs-0.35\n",
            "  libjbig2dec0 libjxr-tools libjxr0 liblcms2-dev liblqr-1-0 liblqr-1-0-dev\n",
            "  liblzo2-2 libmagickcore-6-arch-config libmagickcore-6-headers\n",
            "  libmagickcore-6.q16-6 libmagickcore-6.q16-6-extra libmagickcore-6.q16-dev\n",
            "  libmagickwand-6-headers libmagickwand-6.q16-6 libmagickwand-6.q16-dev\n",
            "  libmagickwand-dev libmount-dev libpixman-1-dev librsvg2-common librsvg2-dev\n",
            "  libselinux1-dev libsepol-dev libsm-dev libwmf-0.2-7 libwmf-dev\n",
            "  libwmflite-0.2-7 libxcb-render0-dev libxcb-shm0-dev libxt-dev poppler-data\n",
            "The following packages will be upgraded:\n",
            "  libblkid1 libmount1\n",
            "2 upgraded, 56 newly installed, 0 to remove and 47 not upgraded.\n",
            "Need to get 34.8 MB of archives.\n",
            "After this operation, 123 MB of additional disk space will be used.\n",
            "Get:1 http://archive.ubuntu.com/ubuntu jammy/main amd64 fonts-droid-fallback all 1:6.0.1r16-1.1build1 [1,805 kB]\n",
            "Get:2 http://archive.ubuntu.com/ubuntu jammy-updates/universe amd64 imagemagick-6-common all 8:6.9.11.60+dfsg-1.3ubuntu0.22.04.5 [64.3 kB]\n",
            "Get:3 http://archive.ubuntu.com/ubuntu jammy-updates/universe amd64 libmagickcore-6-headers all 8:6.9.11.60+dfsg-1.3ubuntu0.22.04.5 [52.7 kB]\n",
            "Get:4 http://archive.ubuntu.com/ubuntu jammy-updates/universe amd64 libmagickcore-6-arch-config amd64 8:6.9.11.60+dfsg-1.3ubuntu0.22.04.5 [26.2 kB]\n",
            "Get:5 http://archive.ubuntu.com/ubuntu jammy/main amd64 libfftw3-double3 amd64 3.3.8-2ubuntu8 [770 kB]\n",
            "Get:6 http://archive.ubuntu.com/ubuntu jammy/universe amd64 liblqr-1-0 amd64 0.4.2-2.1 [27.7 kB]\n",
            "Get:7 http://archive.ubuntu.com/ubuntu jammy-updates/universe amd64 libmagickcore-6.q16-6 amd64 8:6.9.11.60+dfsg-1.3ubuntu0.22.04.5 [1,795 kB]\n",
            "Get:8 http://archive.ubuntu.com/ubuntu jammy/main amd64 libdjvulibre-text all 3.5.28-2build2 [50.9 kB]\n",
            "Get:9 http://archive.ubuntu.com/ubuntu jammy/main amd64 libdjvulibre21 amd64 3.5.28-2build2 [624 kB]\n",
            "Get:10 http://archive.ubuntu.com/ubuntu jammy-updates/universe amd64 libmagickwand-6.q16-6 amd64 8:6.9.11.60+dfsg-1.3ubuntu0.22.04.5 [328 kB]\n",
            "Get:11 http://archive.ubuntu.com/ubuntu jammy/main amd64 libwmflite-0.2-7 amd64 0.2.12-5ubuntu1 [68.9 kB]\n",
            "Get:12 http://archive.ubuntu.com/ubuntu jammy-updates/universe amd64 libmagickcore-6.q16-6-extra amd64 8:6.9.11.60+dfsg-1.3ubuntu0.22.04.5 [70.1 kB]\n",
            "Get:13 http://archive.ubuntu.com/ubuntu jammy/main amd64 libdjvulibre-dev amd64 3.5.28-2build2 [2,463 kB]\n",
            "Get:14 http://archive.ubuntu.com/ubuntu jammy/main amd64 liblcms2-dev amd64 2.12~rc1-2build2 [1,887 kB]\n",
            "Get:15 http://archive.ubuntu.com/ubuntu jammy/universe amd64 liblqr-1-0-dev amd64 0.4.2-2.1 [69.1 kB]\n",
            "Get:16 http://archive.ubuntu.com/ubuntu jammy/main amd64 gir1.2-freedesktop amd64 1.72.0-1 [22.3 kB]\n",
            "Get:17 http://archive.ubuntu.com/ubuntu jammy-updates/main amd64 gir1.2-gdkpixbuf-2.0 amd64 2.42.8+dfsg-1ubuntu0.3 [9,486 B]\n",
            "Get:18 http://archive.ubuntu.com/ubuntu jammy-updates/main amd64 gir1.2-rsvg-2.0 amd64 2.52.5+dfsg-3ubuntu0.2 [16.5 kB]\n",
            "Get:19 http://archive.ubuntu.com/ubuntu jammy/main amd64 liblzo2-2 amd64 2.10-2build3 [53.7 kB]\n",
            "Get:20 http://archive.ubuntu.com/ubuntu jammy/main amd64 libcairo-script-interpreter2 amd64 1.16.0-5ubuntu2 [62.0 kB]\n",
            "Get:21 http://archive.ubuntu.com/ubuntu jammy/main amd64 libice-dev amd64 2:1.0.10-1build2 [51.4 kB]\n",
            "Get:22 http://archive.ubuntu.com/ubuntu jammy/main amd64 libsm-dev amd64 2:1.2.3-1build2 [18.1 kB]\n",
            "Get:23 http://archive.ubuntu.com/ubuntu jammy-updates/main amd64 libpixman-1-dev amd64 0.40.0-1ubuntu0.22.04.1 [280 kB]\n",
            "Get:24 http://archive.ubuntu.com/ubuntu jammy/main amd64 libxcb-render0-dev amd64 1.14-3ubuntu3 [19.6 kB]\n",
            "Get:25 http://archive.ubuntu.com/ubuntu jammy/main amd64 libxcb-shm0-dev amd64 1.14-3ubuntu3 [6,848 B]\n",
            "Get:26 http://archive.ubuntu.com/ubuntu jammy/main amd64 libffi-dev amd64 3.4.2-4 [63.7 kB]\n",
            "Get:27 http://archive.ubuntu.com/ubuntu jammy-updates/main amd64 libglib2.0-dev-bin amd64 2.72.4-0ubuntu2.4 [117 kB]\n",
            "Get:28 http://archive.ubuntu.com/ubuntu jammy-updates/main amd64 libblkid1 amd64 2.37.2-4ubuntu3.4 [103 kB]\n",
            "Get:29 http://archive.ubuntu.com/ubuntu jammy-updates/main amd64 libblkid-dev amd64 2.37.2-4ubuntu3.4 [185 kB]\n",
            "Get:30 http://archive.ubuntu.com/ubuntu jammy-updates/main amd64 libmount1 amd64 2.37.2-4ubuntu3.4 [122 kB]\n",
            "Get:31 http://archive.ubuntu.com/ubuntu jammy/main amd64 libsepol-dev amd64 3.3-1build1 [378 kB]\n",
            "Get:32 http://archive.ubuntu.com/ubuntu jammy/main amd64 libselinux1-dev amd64 3.3-1build2 [158 kB]\n",
            "Get:33 http://archive.ubuntu.com/ubuntu jammy-updates/main amd64 libmount-dev amd64 2.37.2-4ubuntu3.4 [14.5 kB]\n",
            "Get:34 http://archive.ubuntu.com/ubuntu jammy-updates/main amd64 libglib2.0-dev amd64 2.72.4-0ubuntu2.4 [1,743 kB]\n",
            "Get:35 http://archive.ubuntu.com/ubuntu jammy/main amd64 libcairo2-dev amd64 1.16.0-5ubuntu2 [692 kB]\n",
            "Get:36 http://archive.ubuntu.com/ubuntu jammy-updates/main amd64 libgdk-pixbuf2.0-bin amd64 2.42.8+dfsg-1ubuntu0.3 [14.2 kB]\n",
            "Get:37 http://archive.ubuntu.com/ubuntu jammy-updates/main amd64 libgdk-pixbuf-2.0-dev amd64 2.42.8+dfsg-1ubuntu0.3 [47.8 kB]\n",
            "Get:38 http://archive.ubuntu.com/ubuntu jammy-updates/main amd64 librsvg2-common amd64 2.52.5+dfsg-3ubuntu0.2 [17.7 kB]\n",
            "Get:39 http://archive.ubuntu.com/ubuntu jammy-updates/main amd64 librsvg2-dev amd64 2.52.5+dfsg-3ubuntu0.2 [49.8 kB]\n",
            "Get:40 http://archive.ubuntu.com/ubuntu jammy/main amd64 libwmf-0.2-7 amd64 0.2.12-5ubuntu1 [94.2 kB]\n",
            "Get:41 http://archive.ubuntu.com/ubuntu jammy/main amd64 libwmf-dev amd64 0.2.12-5ubuntu1 [236 kB]\n",
            "Get:42 http://archive.ubuntu.com/ubuntu jammy/main amd64 libxt-dev amd64 1:1.2.1-1 [396 kB]\n",
            "Get:43 http://archive.ubuntu.com/ubuntu jammy-updates/universe amd64 libmagickcore-6.q16-dev amd64 8:6.9.11.60+dfsg-1.3ubuntu0.22.04.5 [1,120 kB]\n",
            "Get:44 http://archive.ubuntu.com/ubuntu jammy-updates/universe amd64 libmagickwand-6-headers all 8:6.9.11.60+dfsg-1.3ubuntu0.22.04.5 [10.4 kB]\n",
            "Get:45 http://archive.ubuntu.com/ubuntu jammy-updates/universe amd64 libmagickwand-6.q16-dev amd64 8:6.9.11.60+dfsg-1.3ubuntu0.22.04.5 [358 kB]\n",
            "Get:46 http://archive.ubuntu.com/ubuntu jammy-updates/universe amd64 libmagickwand-dev all 8:6.9.11.60+dfsg-1.3ubuntu0.22.04.5 [1,178 B]\n",
            "Get:47 http://archive.ubuntu.com/ubuntu jammy/main amd64 poppler-data all 0.4.11-1 [2,171 kB]\n",
            "Get:48 http://archive.ubuntu.com/ubuntu jammy/main amd64 fonts-noto-mono all 20201225-1build1 [397 kB]\n",
            "Get:49 http://archive.ubuntu.com/ubuntu jammy/main amd64 fonts-urw-base35 all 20200910-1 [6,367 kB]\n",
            "Get:50 http://archive.ubuntu.com/ubuntu jammy-updates/main amd64 libgs9-common all 9.55.0~dfsg1-0ubuntu5.10 [752 kB]\n",
            "Get:51 http://archive.ubuntu.com/ubuntu jammy-updates/main amd64 libidn12 amd64 1.38-4ubuntu1 [60.0 kB]\n",
            "Get:52 http://archive.ubuntu.com/ubuntu jammy/main amd64 libijs-0.35 amd64 0.35-15build2 [16.5 kB]\n",
            "Get:53 http://archive.ubuntu.com/ubuntu jammy/main amd64 libjbig2dec0 amd64 0.19-3build2 [64.7 kB]\n",
            "Get:54 http://archive.ubuntu.com/ubuntu jammy-updates/main amd64 libgs9 amd64 9.55.0~dfsg1-0ubuntu5.10 [5,031 kB]\n",
            "Get:55 http://archive.ubuntu.com/ubuntu jammy-updates/main amd64 ghostscript amd64 9.55.0~dfsg1-0ubuntu5.10 [49.4 kB]\n",
            "Get:56 http://archive.ubuntu.com/ubuntu jammy/universe amd64 gsfonts all 1:8.11+urwcyr1.0.7~pre44-4.5 [3,120 kB]\n",
            "Get:57 http://archive.ubuntu.com/ubuntu jammy/universe amd64 libjxr0 amd64 1.2~git20170615.f752187-5 [174 kB]\n",
            "Get:58 http://archive.ubuntu.com/ubuntu jammy/universe amd64 libjxr-tools amd64 1.2~git20170615.f752187-5 [16.0 kB]\n",
            "Fetched 34.8 MB in 2s (14.8 MB/s)\n",
            "debconf: unable to initialize frontend: Dialog\n",
            "debconf: (No usable dialog-like program is installed, so the dialog based frontend cannot be used. at /usr/share/perl5/Debconf/FrontEnd/Dialog.pm line 78, <> line 58.)\n",
            "debconf: falling back to frontend: Readline\n",
            "debconf: unable to initialize frontend: Readline\n",
            "debconf: (This frontend requires a controlling tty.)\n",
            "debconf: falling back to frontend: Teletype\n",
            "dpkg-preconfigure: unable to re-open stdin: \n",
            "Selecting previously unselected package fonts-droid-fallback.\n",
            "(Reading database ... 123630 files and directories currently installed.)\n",
            "Preparing to unpack .../00-fonts-droid-fallback_1%3a6.0.1r16-1.1build1_all.deb ...\n",
            "Unpacking fonts-droid-fallback (1:6.0.1r16-1.1build1) ...\n",
            "Selecting previously unselected package imagemagick-6-common.\n",
            "Preparing to unpack .../01-imagemagick-6-common_8%3a6.9.11.60+dfsg-1.3ubuntu0.22.04.5_all.deb ...\n",
            "Unpacking imagemagick-6-common (8:6.9.11.60+dfsg-1.3ubuntu0.22.04.5) ...\n",
            "Selecting previously unselected package libmagickcore-6-headers.\n",
            "Preparing to unpack .../02-libmagickcore-6-headers_8%3a6.9.11.60+dfsg-1.3ubuntu0.22.04.5_all.deb ...\n",
            "Unpacking libmagickcore-6-headers (8:6.9.11.60+dfsg-1.3ubuntu0.22.04.5) ...\n",
            "Selecting previously unselected package libmagickcore-6-arch-config:amd64.\n",
            "Preparing to unpack .../03-libmagickcore-6-arch-config_8%3a6.9.11.60+dfsg-1.3ubuntu0.22.04.5_amd64.deb ...\n",
            "Unpacking libmagickcore-6-arch-config:amd64 (8:6.9.11.60+dfsg-1.3ubuntu0.22.04.5) ...\n",
            "Selecting previously unselected package libfftw3-double3:amd64.\n",
            "Preparing to unpack .../04-libfftw3-double3_3.3.8-2ubuntu8_amd64.deb ...\n",
            "Unpacking libfftw3-double3:amd64 (3.3.8-2ubuntu8) ...\n",
            "Selecting previously unselected package liblqr-1-0:amd64.\n",
            "Preparing to unpack .../05-liblqr-1-0_0.4.2-2.1_amd64.deb ...\n",
            "Unpacking liblqr-1-0:amd64 (0.4.2-2.1) ...\n",
            "Selecting previously unselected package libmagickcore-6.q16-6:amd64.\n",
            "Preparing to unpack .../06-libmagickcore-6.q16-6_8%3a6.9.11.60+dfsg-1.3ubuntu0.22.04.5_amd64.deb ...\n",
            "Unpacking libmagickcore-6.q16-6:amd64 (8:6.9.11.60+dfsg-1.3ubuntu0.22.04.5) ...\n",
            "Selecting previously unselected package libdjvulibre-text.\n",
            "Preparing to unpack .../07-libdjvulibre-text_3.5.28-2build2_all.deb ...\n",
            "Unpacking libdjvulibre-text (3.5.28-2build2) ...\n",
            "Selecting previously unselected package libdjvulibre21:amd64.\n",
            "Preparing to unpack .../08-libdjvulibre21_3.5.28-2build2_amd64.deb ...\n",
            "Unpacking libdjvulibre21:amd64 (3.5.28-2build2) ...\n",
            "Selecting previously unselected package libmagickwand-6.q16-6:amd64.\n",
            "Preparing to unpack .../09-libmagickwand-6.q16-6_8%3a6.9.11.60+dfsg-1.3ubuntu0.22.04.5_amd64.deb ...\n",
            "Unpacking libmagickwand-6.q16-6:amd64 (8:6.9.11.60+dfsg-1.3ubuntu0.22.04.5) ...\n",
            "Selecting previously unselected package libwmflite-0.2-7:amd64.\n",
            "Preparing to unpack .../10-libwmflite-0.2-7_0.2.12-5ubuntu1_amd64.deb ...\n",
            "Unpacking libwmflite-0.2-7:amd64 (0.2.12-5ubuntu1) ...\n",
            "Selecting previously unselected package libmagickcore-6.q16-6-extra:amd64.\n",
            "Preparing to unpack .../11-libmagickcore-6.q16-6-extra_8%3a6.9.11.60+dfsg-1.3ubuntu0.22.04.5_amd64.deb ...\n",
            "Unpacking libmagickcore-6.q16-6-extra:amd64 (8:6.9.11.60+dfsg-1.3ubuntu0.22.04.5) ...\n",
            "Selecting previously unselected package libdjvulibre-dev:amd64.\n",
            "Preparing to unpack .../12-libdjvulibre-dev_3.5.28-2build2_amd64.deb ...\n",
            "Unpacking libdjvulibre-dev:amd64 (3.5.28-2build2) ...\n",
            "Selecting previously unselected package liblcms2-dev:amd64.\n",
            "Preparing to unpack .../13-liblcms2-dev_2.12~rc1-2build2_amd64.deb ...\n",
            "Unpacking liblcms2-dev:amd64 (2.12~rc1-2build2) ...\n",
            "Selecting previously unselected package liblqr-1-0-dev:amd64.\n",
            "Preparing to unpack .../14-liblqr-1-0-dev_0.4.2-2.1_amd64.deb ...\n",
            "Unpacking liblqr-1-0-dev:amd64 (0.4.2-2.1) ...\n",
            "Selecting previously unselected package gir1.2-freedesktop:amd64.\n",
            "Preparing to unpack .../15-gir1.2-freedesktop_1.72.0-1_amd64.deb ...\n",
            "Unpacking gir1.2-freedesktop:amd64 (1.72.0-1) ...\n",
            "Selecting previously unselected package gir1.2-gdkpixbuf-2.0:amd64.\n",
            "Preparing to unpack .../16-gir1.2-gdkpixbuf-2.0_2.42.8+dfsg-1ubuntu0.3_amd64.deb ...\n",
            "Unpacking gir1.2-gdkpixbuf-2.0:amd64 (2.42.8+dfsg-1ubuntu0.3) ...\n",
            "Selecting previously unselected package gir1.2-rsvg-2.0:amd64.\n",
            "Preparing to unpack .../17-gir1.2-rsvg-2.0_2.52.5+dfsg-3ubuntu0.2_amd64.deb ...\n",
            "Unpacking gir1.2-rsvg-2.0:amd64 (2.52.5+dfsg-3ubuntu0.2) ...\n",
            "Selecting previously unselected package liblzo2-2:amd64.\n",
            "Preparing to unpack .../18-liblzo2-2_2.10-2build3_amd64.deb ...\n",
            "Unpacking liblzo2-2:amd64 (2.10-2build3) ...\n",
            "Selecting previously unselected package libcairo-script-interpreter2:amd64.\n",
            "Preparing to unpack .../19-libcairo-script-interpreter2_1.16.0-5ubuntu2_amd64.deb ...\n",
            "Unpacking libcairo-script-interpreter2:amd64 (1.16.0-5ubuntu2) ...\n",
            "Selecting previously unselected package libice-dev:amd64.\n",
            "Preparing to unpack .../20-libice-dev_2%3a1.0.10-1build2_amd64.deb ...\n",
            "Unpacking libice-dev:amd64 (2:1.0.10-1build2) ...\n",
            "Selecting previously unselected package libsm-dev:amd64.\n",
            "Preparing to unpack .../21-libsm-dev_2%3a1.2.3-1build2_amd64.deb ...\n",
            "Unpacking libsm-dev:amd64 (2:1.2.3-1build2) ...\n",
            "Selecting previously unselected package libpixman-1-dev:amd64.\n",
            "Preparing to unpack .../22-libpixman-1-dev_0.40.0-1ubuntu0.22.04.1_amd64.deb ...\n",
            "Unpacking libpixman-1-dev:amd64 (0.40.0-1ubuntu0.22.04.1) ...\n",
            "Selecting previously unselected package libxcb-render0-dev:amd64.\n",
            "Preparing to unpack .../23-libxcb-render0-dev_1.14-3ubuntu3_amd64.deb ...\n",
            "Unpacking libxcb-render0-dev:amd64 (1.14-3ubuntu3) ...\n",
            "Selecting previously unselected package libxcb-shm0-dev:amd64.\n",
            "Preparing to unpack .../24-libxcb-shm0-dev_1.14-3ubuntu3_amd64.deb ...\n",
            "Unpacking libxcb-shm0-dev:amd64 (1.14-3ubuntu3) ...\n",
            "Selecting previously unselected package libffi-dev:amd64.\n",
            "Preparing to unpack .../25-libffi-dev_3.4.2-4_amd64.deb ...\n",
            "Unpacking libffi-dev:amd64 (3.4.2-4) ...\n",
            "Selecting previously unselected package libglib2.0-dev-bin.\n",
            "Preparing to unpack .../26-libglib2.0-dev-bin_2.72.4-0ubuntu2.4_amd64.deb ...\n",
            "Unpacking libglib2.0-dev-bin (2.72.4-0ubuntu2.4) ...\n",
            "Preparing to unpack .../27-libblkid1_2.37.2-4ubuntu3.4_amd64.deb ...\n",
            "Unpacking libblkid1:amd64 (2.37.2-4ubuntu3.4) over (2.37.2-4ubuntu3) ...\n",
            "Setting up libblkid1:amd64 (2.37.2-4ubuntu3.4) ...\n",
            "Selecting previously unselected package libblkid-dev:amd64.\n",
            "(Reading database ... 124439 files and directories currently installed.)\n",
            "Preparing to unpack .../libblkid-dev_2.37.2-4ubuntu3.4_amd64.deb ...\n",
            "Unpacking libblkid-dev:amd64 (2.37.2-4ubuntu3.4) ...\n",
            "Preparing to unpack .../libmount1_2.37.2-4ubuntu3.4_amd64.deb ...\n",
            "Unpacking libmount1:amd64 (2.37.2-4ubuntu3.4) over (2.37.2-4ubuntu3) ...\n",
            "Setting up libmount1:amd64 (2.37.2-4ubuntu3.4) ...\n",
            "Selecting previously unselected package libsepol-dev:amd64.\n",
            "(Reading database ... 124448 files and directories currently installed.)\n",
            "Preparing to unpack .../00-libsepol-dev_3.3-1build1_amd64.deb ...\n",
            "Unpacking libsepol-dev:amd64 (3.3-1build1) ...\n",
            "Selecting previously unselected package libselinux1-dev:amd64.\n",
            "Preparing to unpack .../01-libselinux1-dev_3.3-1build2_amd64.deb ...\n",
            "Unpacking libselinux1-dev:amd64 (3.3-1build2) ...\n",
            "Selecting previously unselected package libmount-dev:amd64.\n",
            "Preparing to unpack .../02-libmount-dev_2.37.2-4ubuntu3.4_amd64.deb ...\n",
            "Unpacking libmount-dev:amd64 (2.37.2-4ubuntu3.4) ...\n",
            "Selecting previously unselected package libglib2.0-dev:amd64.\n",
            "Preparing to unpack .../03-libglib2.0-dev_2.72.4-0ubuntu2.4_amd64.deb ...\n",
            "Unpacking libglib2.0-dev:amd64 (2.72.4-0ubuntu2.4) ...\n",
            "Selecting previously unselected package libcairo2-dev:amd64.\n",
            "Preparing to unpack .../04-libcairo2-dev_1.16.0-5ubuntu2_amd64.deb ...\n",
            "Unpacking libcairo2-dev:amd64 (1.16.0-5ubuntu2) ...\n",
            "Selecting previously unselected package libgdk-pixbuf2.0-bin.\n",
            "Preparing to unpack .../05-libgdk-pixbuf2.0-bin_2.42.8+dfsg-1ubuntu0.3_amd64.deb ...\n",
            "Unpacking libgdk-pixbuf2.0-bin (2.42.8+dfsg-1ubuntu0.3) ...\n",
            "Selecting previously unselected package libgdk-pixbuf-2.0-dev:amd64.\n",
            "Preparing to unpack .../06-libgdk-pixbuf-2.0-dev_2.42.8+dfsg-1ubuntu0.3_amd64.deb ...\n",
            "Unpacking libgdk-pixbuf-2.0-dev:amd64 (2.42.8+dfsg-1ubuntu0.3) ...\n",
            "Selecting previously unselected package librsvg2-common:amd64.\n",
            "Preparing to unpack .../07-librsvg2-common_2.52.5+dfsg-3ubuntu0.2_amd64.deb ...\n",
            "Unpacking librsvg2-common:amd64 (2.52.5+dfsg-3ubuntu0.2) ...\n",
            "Selecting previously unselected package librsvg2-dev:amd64.\n",
            "Preparing to unpack .../08-librsvg2-dev_2.52.5+dfsg-3ubuntu0.2_amd64.deb ...\n",
            "Unpacking librsvg2-dev:amd64 (2.52.5+dfsg-3ubuntu0.2) ...\n",
            "Selecting previously unselected package libwmf-0.2-7:amd64.\n",
            "Preparing to unpack .../09-libwmf-0.2-7_0.2.12-5ubuntu1_amd64.deb ...\n",
            "Unpacking libwmf-0.2-7:amd64 (0.2.12-5ubuntu1) ...\n",
            "Selecting previously unselected package libwmf-dev.\n",
            "Preparing to unpack .../10-libwmf-dev_0.2.12-5ubuntu1_amd64.deb ...\n",
            "Unpacking libwmf-dev (0.2.12-5ubuntu1) ...\n",
            "Selecting previously unselected package libxt-dev:amd64.\n",
            "Preparing to unpack .../11-libxt-dev_1%3a1.2.1-1_amd64.deb ...\n",
            "Unpacking libxt-dev:amd64 (1:1.2.1-1) ...\n",
            "Selecting previously unselected package libmagickcore-6.q16-dev:amd64.\n",
            "Preparing to unpack .../12-libmagickcore-6.q16-dev_8%3a6.9.11.60+dfsg-1.3ubuntu0.22.04.5_amd64.deb ...\n",
            "Unpacking libmagickcore-6.q16-dev:amd64 (8:6.9.11.60+dfsg-1.3ubuntu0.22.04.5) ...\n",
            "Selecting previously unselected package libmagickwand-6-headers.\n",
            "Preparing to unpack .../13-libmagickwand-6-headers_8%3a6.9.11.60+dfsg-1.3ubuntu0.22.04.5_all.deb ...\n",
            "Unpacking libmagickwand-6-headers (8:6.9.11.60+dfsg-1.3ubuntu0.22.04.5) ...\n",
            "Selecting previously unselected package libmagickwand-6.q16-dev:amd64.\n",
            "Preparing to unpack .../14-libmagickwand-6.q16-dev_8%3a6.9.11.60+dfsg-1.3ubuntu0.22.04.5_amd64.deb ...\n",
            "Unpacking libmagickwand-6.q16-dev:amd64 (8:6.9.11.60+dfsg-1.3ubuntu0.22.04.5) ...\n",
            "Selecting previously unselected package libmagickwand-dev.\n",
            "Preparing to unpack .../15-libmagickwand-dev_8%3a6.9.11.60+dfsg-1.3ubuntu0.22.04.5_all.deb ...\n",
            "Unpacking libmagickwand-dev (8:6.9.11.60+dfsg-1.3ubuntu0.22.04.5) ...\n",
            "Selecting previously unselected package poppler-data.\n",
            "Preparing to unpack .../16-poppler-data_0.4.11-1_all.deb ...\n",
            "Unpacking poppler-data (0.4.11-1) ...\n",
            "Selecting previously unselected package fonts-noto-mono.\n",
            "Preparing to unpack .../17-fonts-noto-mono_20201225-1build1_all.deb ...\n",
            "Unpacking fonts-noto-mono (20201225-1build1) ...\n",
            "Selecting previously unselected package fonts-urw-base35.\n",
            "Preparing to unpack .../18-fonts-urw-base35_20200910-1_all.deb ...\n",
            "Unpacking fonts-urw-base35 (20200910-1) ...\n",
            "Selecting previously unselected package libgs9-common.\n",
            "Preparing to unpack .../19-libgs9-common_9.55.0~dfsg1-0ubuntu5.10_all.deb ...\n",
            "Unpacking libgs9-common (9.55.0~dfsg1-0ubuntu5.10) ...\n",
            "Selecting previously unselected package libidn12:amd64.\n",
            "Preparing to unpack .../20-libidn12_1.38-4ubuntu1_amd64.deb ...\n",
            "Unpacking libidn12:amd64 (1.38-4ubuntu1) ...\n",
            "Selecting previously unselected package libijs-0.35:amd64.\n",
            "Preparing to unpack .../21-libijs-0.35_0.35-15build2_amd64.deb ...\n",
            "Unpacking libijs-0.35:amd64 (0.35-15build2) ...\n",
            "Selecting previously unselected package libjbig2dec0:amd64.\n",
            "Preparing to unpack .../22-libjbig2dec0_0.19-3build2_amd64.deb ...\n",
            "Unpacking libjbig2dec0:amd64 (0.19-3build2) ...\n",
            "Selecting previously unselected package libgs9:amd64.\n",
            "Preparing to unpack .../23-libgs9_9.55.0~dfsg1-0ubuntu5.10_amd64.deb ...\n",
            "Unpacking libgs9:amd64 (9.55.0~dfsg1-0ubuntu5.10) ...\n",
            "Selecting previously unselected package ghostscript.\n",
            "Preparing to unpack .../24-ghostscript_9.55.0~dfsg1-0ubuntu5.10_amd64.deb ...\n",
            "Unpacking ghostscript (9.55.0~dfsg1-0ubuntu5.10) ...\n",
            "Selecting previously unselected package gsfonts.\n",
            "Preparing to unpack .../25-gsfonts_1%3a8.11+urwcyr1.0.7~pre44-4.5_all.deb ...\n",
            "Unpacking gsfonts (1:8.11+urwcyr1.0.7~pre44-4.5) ...\n",
            "Selecting previously unselected package libjxr0:amd64.\n",
            "Preparing to unpack .../26-libjxr0_1.2~git20170615.f752187-5_amd64.deb ...\n",
            "Unpacking libjxr0:amd64 (1.2~git20170615.f752187-5) ...\n",
            "Selecting previously unselected package libjxr-tools.\n",
            "Preparing to unpack .../27-libjxr-tools_1.2~git20170615.f752187-5_amd64.deb ...\n",
            "Unpacking libjxr-tools (1.2~git20170615.f752187-5) ...\n",
            "Setting up libglib2.0-dev-bin (2.72.4-0ubuntu2.4) ...\n",
            "Setting up libblkid-dev:amd64 (2.37.2-4ubuntu3.4) ...\n",
            "Setting up imagemagick-6-common (8:6.9.11.60+dfsg-1.3ubuntu0.22.04.5) ...\n",
            "Setting up gir1.2-freedesktop:amd64 (1.72.0-1) ...\n",
            "Setting up libpixman-1-dev:amd64 (0.40.0-1ubuntu0.22.04.1) ...\n",
            "Setting up fonts-noto-mono (20201225-1build1) ...\n",
            "Setting up libwmflite-0.2-7:amd64 (0.2.12-5ubuntu1) ...\n",
            "Setting up gir1.2-gdkpixbuf-2.0:amd64 (2.42.8+dfsg-1ubuntu0.3) ...\n",
            "Setting up libice-dev:amd64 (2:1.0.10-1build2) ...\n",
            "Setting up libsm-dev:amd64 (2:1.2.3-1build2) ...\n",
            "Setting up libijs-0.35:amd64 (0.35-15build2) ...\n",
            "Setting up libjxr0:amd64 (1.2~git20170615.f752187-5) ...\n",
            "Setting up liblzo2-2:amd64 (2.10-2build3) ...\n",
            "Setting up fonts-urw-base35 (20200910-1) ...\n",
            "Setting up libffi-dev:amd64 (3.4.2-4) ...\n",
            "Setting up poppler-data (0.4.11-1) ...\n",
            "Setting up libxcb-shm0-dev:amd64 (1.14-3ubuntu3) ...\n",
            "Setting up libwmf-0.2-7:amd64 (0.2.12-5ubuntu1) ...\n",
            "Setting up libjbig2dec0:amd64 (0.19-3build2) ...\n",
            "Setting up libxt-dev:amd64 (1:1.2.1-1) ...\n",
            "Setting up gsfonts (1:8.11+urwcyr1.0.7~pre44-4.5) ...\n",
            "Setting up libidn12:amd64 (1.38-4ubuntu1) ...\n",
            "Setting up libsepol-dev:amd64 (3.3-1build1) ...\n",
            "Setting up libxcb-render0-dev:amd64 (1.14-3ubuntu3) ...\n",
            "Setting up librsvg2-common:amd64 (2.52.5+dfsg-3ubuntu0.2) ...\n",
            "Setting up libfftw3-double3:amd64 (3.3.8-2ubuntu8) ...\n",
            "Setting up liblcms2-dev:amd64 (2.12~rc1-2build2) ...\n",
            "Setting up liblqr-1-0:amd64 (0.4.2-2.1) ...\n",
            "Setting up libgdk-pixbuf2.0-bin (2.42.8+dfsg-1ubuntu0.3) ...\n",
            "Setting up fonts-droid-fallback (1:6.0.1r16-1.1build1) ...\n",
            "Setting up libmagickcore-6-headers (8:6.9.11.60+dfsg-1.3ubuntu0.22.04.5) ...\n",
            "Setting up libdjvulibre-text (3.5.28-2build2) ...\n",
            "Setting up gir1.2-rsvg-2.0:amd64 (2.52.5+dfsg-3ubuntu0.2) ...\n",
            "Setting up libgs9-common (9.55.0~dfsg1-0ubuntu5.10) ...\n",
            "Setting up libcairo-script-interpreter2:amd64 (1.16.0-5ubuntu2) ...\n",
            "Setting up libmagickcore-6-arch-config:amd64 (8:6.9.11.60+dfsg-1.3ubuntu0.22.04.5) ...\n",
            "Setting up libjxr-tools (1.2~git20170615.f752187-5) ...\n",
            "Setting up libgs9:amd64 (9.55.0~dfsg1-0ubuntu5.10) ...\n",
            "Setting up libselinux1-dev:amd64 (3.3-1build2) ...\n",
            "Setting up libmagickwand-6-headers (8:6.9.11.60+dfsg-1.3ubuntu0.22.04.5) ...\n",
            "Setting up libdjvulibre21:amd64 (3.5.28-2build2) ...\n",
            "Setting up liblqr-1-0-dev:amd64 (0.4.2-2.1) ...\n",
            "Setting up ghostscript (9.55.0~dfsg1-0ubuntu5.10) ...\n",
            "Setting up libdjvulibre-dev:amd64 (3.5.28-2build2) ...\n",
            "Setting up libwmf-dev (0.2.12-5ubuntu1) ...\n",
            "Setting up libmagickcore-6.q16-6:amd64 (8:6.9.11.60+dfsg-1.3ubuntu0.22.04.5) ...\n",
            "Setting up libmagickwand-6.q16-6:amd64 (8:6.9.11.60+dfsg-1.3ubuntu0.22.04.5) ...\n",
            "Setting up libmount-dev:amd64 (2.37.2-4ubuntu3.4) ...\n",
            "Setting up libmagickcore-6.q16-6-extra:amd64 (8:6.9.11.60+dfsg-1.3ubuntu0.22.04.5) ...\n",
            "Setting up libglib2.0-dev:amd64 (2.72.4-0ubuntu2.4) ...\n",
            "Processing triggers for libgdk-pixbuf-2.0-0:amd64 (2.42.8+dfsg-1ubuntu0.3) ...\n",
            "Processing triggers for fontconfig (2.13.1-4.2ubuntu5) ...\n",
            "Processing triggers for libglib2.0-0:amd64 (2.72.4-0ubuntu2.4) ...\n",
            "Processing triggers for libc-bin (2.35-0ubuntu3.4) ...\n",
            "/sbin/ldconfig.real: /usr/local/lib/libtbbmalloc_proxy.so.2 is not a symbolic link\n",
            "\n",
            "/sbin/ldconfig.real: /usr/local/lib/libhwloc.so.15 is not a symbolic link\n",
            "\n",
            "/sbin/ldconfig.real: /usr/local/lib/libtcm.so.1 is not a symbolic link\n",
            "\n",
            "/sbin/ldconfig.real: /usr/local/lib/libtbbbind.so.3 is not a symbolic link\n",
            "\n",
            "/sbin/ldconfig.real: /usr/local/lib/libumf.so.0 is not a symbolic link\n",
            "\n",
            "/sbin/ldconfig.real: /usr/local/lib/libtbb.so.12 is not a symbolic link\n",
            "\n",
            "/sbin/ldconfig.real: /usr/local/lib/libur_loader.so.0 is not a symbolic link\n",
            "\n",
            "/sbin/ldconfig.real: /usr/local/lib/libur_adapter_level_zero.so.0 is not a symbolic link\n",
            "\n",
            "/sbin/ldconfig.real: /usr/local/lib/libtbbbind_2_0.so.3 is not a symbolic link\n",
            "\n",
            "/sbin/ldconfig.real: /usr/local/lib/libtbbbind_2_5.so.3 is not a symbolic link\n",
            "\n",
            "/sbin/ldconfig.real: /usr/local/lib/libur_adapter_opencl.so.0 is not a symbolic link\n",
            "\n",
            "/sbin/ldconfig.real: /usr/local/lib/libtbbmalloc.so.2 is not a symbolic link\n",
            "\n",
            "/sbin/ldconfig.real: /usr/local/lib/libtcm_debug.so.1 is not a symbolic link\n",
            "\n",
            "Processing triggers for man-db (2.10.2-1) ...\n",
            "Setting up libcairo2-dev:amd64 (1.16.0-5ubuntu2) ...\n",
            "Setting up libgdk-pixbuf-2.0-dev:amd64 (2.42.8+dfsg-1ubuntu0.3) ...\n",
            "Setting up librsvg2-dev:amd64 (2.52.5+dfsg-3ubuntu0.2) ...\n",
            "Setting up libmagickcore-6.q16-dev:amd64 (8:6.9.11.60+dfsg-1.3ubuntu0.22.04.5) ...\n",
            "Setting up libmagickwand-6.q16-dev:amd64 (8:6.9.11.60+dfsg-1.3ubuntu0.22.04.5) ...\n",
            "Setting up libmagickwand-dev (8:6.9.11.60+dfsg-1.3ubuntu0.22.04.5) ...\n"
          ]
        }
      ]
    },
    {
      "cell_type": "markdown",
      "source": [
        "## Get unporcessed data"
      ],
      "metadata": {
        "id": "5goqUrUk2Psg"
      }
    },
    {
      "cell_type": "code",
      "source": [
        "!python get_unprocessed_data.py"
      ],
      "metadata": {
        "colab": {
          "base_uri": "https://localhost:8080/"
        },
        "id": "EDpc2HG-2LkO",
        "outputId": "9803e869-b070-4a9c-88c3-ff3c9b658f9f"
      },
      "execution_count": 95,
      "outputs": [
        {
          "output_type": "stream",
          "name": "stdout",
          "text": [
            "2024-11-24 20:03:53.729280: E external/local_xla/xla/stream_executor/cuda/cuda_fft.cc:485] Unable to register cuFFT factory: Attempting to register factory for plugin cuFFT when one has already been registered\n",
            "2024-11-24 20:03:53.765642: E external/local_xla/xla/stream_executor/cuda/cuda_dnn.cc:8454] Unable to register cuDNN factory: Attempting to register factory for plugin cuDNN when one has already been registered\n",
            "2024-11-24 20:03:53.776300: E external/local_xla/xla/stream_executor/cuda/cuda_blas.cc:1452] Unable to register cuBLAS factory: Attempting to register factory for plugin cuBLAS when one has already been registered\n",
            "2024-11-24 20:03:53.803304: I tensorflow/core/platform/cpu_feature_guard.cc:210] This TensorFlow binary is optimized to use available CPU instructions in performance-critical operations.\n",
            "To enable the following instructions: AVX2 FMA, in other operations, rebuild TensorFlow with the appropriate compiler flags.\n",
            "2024-11-24 20:03:55.943870: W tensorflow/compiler/tf2tensorrt/utils/py_utils.cc:38] TF-TRT Warning: Could not find TensorRT\n",
            "[*] Generating audio modality\n",
            "[*] Generating text modality\n",
            "[*] Generating image modality\n",
            "Image shape: (112400, 4)\n",
            "Audio shape: (135096, 4)\n",
            "Text shape: (62875, 3)\n",
            "Image class count 50\n",
            "Audio class count 50\n",
            "Text class count 50\n",
            "Image Labels Count: label\n",
            "truck         7600\n",
            "frog          6000\n",
            "bird          6000\n",
            "horse         6000\n",
            "ship          6000\n",
            "cat           6000\n",
            "dog           6000\n",
            "road          1600\n",
            "woman         1600\n",
            "lion          1600\n",
            "girl          1600\n",
            "forest        1600\n",
            "mouse         1600\n",
            "camel         1600\n",
            "man           1600\n",
            "whale         1600\n",
            "lamp          1600\n",
            "fox           1600\n",
            "ray           1600\n",
            "bee           1600\n",
            "tank          1600\n",
            "bridge        1600\n",
            "baby          1600\n",
            "house         1600\n",
            "bus           1600\n",
            "bed           1600\n",
            "plain         1600\n",
            "chair         1600\n",
            "snake         1600\n",
            "palm          1600\n",
            "sea           1600\n",
            "cattle        1600\n",
            "boy           1600\n",
            "fish          1600\n",
            "telephone     1600\n",
            "train         1600\n",
            "cloud         1600\n",
            "elephant      1600\n",
            "castle        1600\n",
            "bicycle       1600\n",
            "mountain      1600\n",
            "wolf          1600\n",
            "pine          1600\n",
            "roses         1600\n",
            "television    1600\n",
            "table         1600\n",
            "oak           1600\n",
            "rabbit        1600\n",
            "clock         1600\n",
            "bear          1600\n",
            "Name: count, dtype: int64\n",
            "Audio Labels Count: label\n",
            "man           21122\n",
            "boy           18819\n",
            "house         12708\n",
            "woman          8243\n",
            "girl           7092\n",
            "table          4699\n",
            "road           4686\n",
            "horse          4616\n",
            "dog            3987\n",
            "ship           3109\n",
            "bird           2909\n",
            "mountain       2866\n",
            "bed            2606\n",
            "train          2193\n",
            "bridge         2040\n",
            "fish           2017\n",
            "cloud          1968\n",
            "chair          1812\n",
            "cat            1745\n",
            "baby           1688\n",
            "castle         1665\n",
            "forest         1565\n",
            "television     1455\n",
            "bear           1052\n",
            "camel          1035\n",
            "sea            1001\n",
            "fox             994\n",
            "plain           968\n",
            "bus             916\n",
            "snake           860\n",
            "lamp            855\n",
            "clock           850\n",
            "lion            846\n",
            "tank            800\n",
            "palm            759\n",
            "rabbit          746\n",
            "pine            730\n",
            "cattle          707\n",
            "oak             667\n",
            "mouse           635\n",
            "frog            606\n",
            "ray             600\n",
            "bicycle         580\n",
            "truck           568\n",
            "elephant        513\n",
            "roses           482\n",
            "wolf            478\n",
            "telephone       459\n",
            "bee             441\n",
            "whale           338\n",
            "Name: count, dtype: int64\n",
            "Text Labels Count: label\n",
            "man           5725\n",
            "boy           2353\n",
            "girl          2054\n",
            "woman         1844\n",
            "bed           1772\n",
            "pine          1694\n",
            "palm          1604\n",
            "baby          1573\n",
            "oak           1436\n",
            "dog           1358\n",
            "sea           1302\n",
            "house         1283\n",
            "roses         1283\n",
            "plain         1260\n",
            "snake         1256\n",
            "lion          1225\n",
            "television    1219\n",
            "forest        1213\n",
            "mountain      1213\n",
            "table         1181\n",
            "fish          1171\n",
            "chair         1159\n",
            "rabbit        1158\n",
            "ship          1137\n",
            "bird          1120\n",
            "train         1114\n",
            "camel         1114\n",
            "bicycle       1075\n",
            "cloud         1061\n",
            "telephone     1028\n",
            "castle        1019\n",
            "bear           969\n",
            "clock          967\n",
            "cat            964\n",
            "whale          960\n",
            "elephant       947\n",
            "bus            940\n",
            "horse          933\n",
            "tank           924\n",
            "mouse          918\n",
            "fox            915\n",
            "road           908\n",
            "cattle         906\n",
            "lamp           891\n",
            "bee            876\n",
            "truck          859\n",
            "bridge         813\n",
            "frog           813\n",
            "wolf           760\n",
            "ray            608\n",
            "Name: count, dtype: int64\n",
            "[+] Data saved successfully!\n",
            "[+] Data generation completed successfully!\n"
          ]
        }
      ]
    },
    {
      "cell_type": "markdown",
      "source": [
        "## Fetch the data"
      ],
      "metadata": {
        "id": "iAN8meDUMM3N"
      }
    },
    {
      "cell_type": "code",
      "source": [
        "from dataset import LUMADataset\n",
        "\n",
        "image_path = 'data/image_data_unprocessed.pickle'\n",
        "audio_path = 'data/audio/datalist.csv'\n",
        "audio_data_path = 'data/audio'\n",
        "text_path = 'data/text_data.tsv'\n",
        "\n",
        "dataset = LUMADataset(image_path, audio_path, audio_data_path, text_path)"
      ],
      "metadata": {
        "id": "Qd2cJm2ZthCI"
      },
      "execution_count": 87,
      "outputs": []
    },
    {
      "cell_type": "markdown",
      "source": [
        "## Look at some samples"
      ],
      "metadata": {
        "id": "2OOp5JXdtsSv"
      }
    },
    {
      "cell_type": "code",
      "source": [
        "import pandas as pd\n",
        "\n",
        "df = pd.read_csv('data/text_data.tsv', sep='\\t')"
      ],
      "metadata": {
        "id": "w8bR-YtfkOUH"
      },
      "execution_count": 89,
      "outputs": []
    },
    {
      "cell_type": "code",
      "source": [
        "mapping_label = {0: 'man', 1: 'boy', 2: 'house', 3: 'woman', 4: 'girl',\n",
        "                 5: 'table', 6: 'road', 7: 'horse', 8: 'dog', 9: 'ship',\n",
        "                 10: 'bird', 11: 'mountain', 12: 'bed', 13: 'train',\n",
        "                 14: 'bridge', 15: 'fish', 16: 'cloud', 17: 'chair',\n",
        "                 18: 'cat', 19: 'baby', 20: 'castle', 21: 'forest',\n",
        "                 22: 'television', 23: 'bear', 24: 'camel', 25: 'sea',\n",
        "                 26: 'fox', 27: 'plain', 28: 'bus', 29: 'snake', 30: 'lamp',\n",
        "                 31: 'clock', 32: 'lion', 33: 'tank', 34: 'palm', 35: 'rabbit',\n",
        "                 36: 'pine', 37: 'cattle', 38: 'oak', 39: 'mouse',\n",
        "                 40: 'frog', 41: 'ray', 42: 'bicycle', 43: 'truck', 44: 'elephant',\n",
        "                 45: 'roses', 46: 'wolf', 47: 'telephone', 48: 'bee', 49: 'whale'}"
      ],
      "metadata": {
        "id": "mllBggF1hN3k"
      },
      "execution_count": 90,
      "outputs": []
    },
    {
      "cell_type": "code",
      "source": [
        "image, audio, text, target = dataset[800]"
      ],
      "metadata": {
        "id": "A5qYI4ZNtmVw"
      },
      "execution_count": 92,
      "outputs": []
    },
    {
      "cell_type": "markdown",
      "source": [
        "### Not aligned: just use the csv this is a dead end"
      ],
      "metadata": {
        "id": "36BoM2uMyHXo"
      }
    },
    {
      "cell_type": "code",
      "source": [
        "mapping_label[target], text"
      ],
      "metadata": {
        "colab": {
          "base_uri": "https://localhost:8080/"
        },
        "id": "CCNwUCf9jN0A",
        "outputId": "d2be62f3-00cb-48c6-c03e-39d36a1d5cb4"
      },
      "execution_count": 94,
      "outputs": [
        {
          "output_type": "execute_result",
          "data": {
            "text/plain": [
              "('truck',\n",
              " 'Ship is a prevalent symbol of adventure, exploration, and travel across the waves. From the high seas to the pages of literature, the word \"ship\" evokes a sense of freedom, mystery, and the boundless potential for discovery. In literature, ships are often portrayed as vehicles of transformation and escape, carrying characters on journeys both physical and metaphorical. In \"The Odyssey,\" the ship serves as a symbol of both physical displacement and emotional travel, carrying Odysseus on his epic journey home. Similarly, in \"Treasure Island,\" the Jolly Roger represents the spirit of adventure and the allure of hidden treasures. Ships are also central to numerous maritime tales, such as \"The Arabian Nights\" and \" Moby Dick.\" In popular culture, ships are often depicted in movies, TV shows, and video games, symbolizing exploration and adventure. For instance, \"Pirates of the Caribbean\" showcases a thrilling journey on the high seas, while \"The Lord of the Rings\" draws upon ships as a symbol of fellowship and resilience. No matter the context, the word \"ship\" carries a potent cultural significance, evoking feelings of exploration, mystery, and the boundless possibilities of adventure.')"
            ]
          },
          "metadata": {},
          "execution_count": 94
        }
      ]
    }
  ]
}